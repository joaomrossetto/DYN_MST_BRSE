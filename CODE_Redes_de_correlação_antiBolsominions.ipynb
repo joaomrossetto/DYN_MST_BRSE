{
  "nbformat": 4,
  "nbformat_minor": 0,
  "metadata": {
    "colab": {
      "name": "CODE Redes de correlação antiBolsominions.ipynb",
      "provenance": [],
      "collapsed_sections": [],
      "include_colab_link": true
    },
    "kernelspec": {
      "name": "python3",
      "display_name": "Python 3"
    }
  },
  "cells": [
    {
      "cell_type": "markdown",
      "metadata": {
        "id": "view-in-github",
        "colab_type": "text"
      },
      "source": [
        "<a href=\"https://colab.research.google.com/github/joaomrossetto/DYN_MST_BRSE/blob/master/CODE_Redes_de_correla%C3%A7%C3%A3o_antiBolsominions.ipynb\" target=\"_parent\"><img src=\"https://colab.research.google.com/assets/colab-badge.svg\" alt=\"Open In Colab\"/></a>"
      ]
    },
    {
      "cell_type": "markdown",
      "metadata": {
        "id": "s6HC0jUEHGf-",
        "colab_type": "text"
      },
      "source": [
        "\n",
        "\n",
        "# **`Subindo e Configurando o Ambiente Hadoop e Spark 2.4.1`**\n"
      ]
    },
    {
      "cell_type": "code",
      "metadata": {
        "id": "7RyQbFL51v6g",
        "colab_type": "code",
        "outputId": "b6649815-441e-4e36-e620-fc8b514b88f5",
        "colab": {
          "base_uri": "https://localhost:8080/",
          "height": 225
        }
      },
      "source": [
        "!apt-get install openjdk-8-jdk-headless -qq > /dev/null\n",
        "!wget -P /content/ https://archive.apache.org/dist/spark/spark-2.4.1/spark-2.4.1-bin-hadoop2.7.tgz\n",
        "!tar xf spark-2.4.1-bin-hadoop2.7.tgz\n",
        "!!pip install -q findspark"
      ],
      "execution_count": 0,
      "outputs": [
        {
          "output_type": "stream",
          "text": [
            "--2019-10-21 22:57:02--  https://archive.apache.org/dist/spark/spark-2.4.1/spark-2.4.1-bin-hadoop2.7.tgz\n",
            "Resolving archive.apache.org (archive.apache.org)... 163.172.17.199\n",
            "Connecting to archive.apache.org (archive.apache.org)|163.172.17.199|:443... connected.\n",
            "HTTP request sent, awaiting response... 200 OK\n",
            "Length: 230778742 (220M) [application/x-gzip]\n",
            "Saving to: ‘/content/spark-2.4.1-bin-hadoop2.7.tgz’\n",
            "\n",
            "spark-2.4.1-bin-had 100%[===================>] 220.09M  28.1MB/s    in 7.9s    \n",
            "\n",
            "2019-10-21 22:57:10 (27.8 MB/s) - ‘/content/spark-2.4.1-bin-hadoop2.7.tgz’ saved [230778742/230778742]\n",
            "\n"
          ],
          "name": "stdout"
        },
        {
          "output_type": "execute_result",
          "data": {
            "text/plain": [
              "[]"
            ]
          },
          "metadata": {
            "tags": []
          },
          "execution_count": 1
        }
      ]
    },
    {
      "cell_type": "code",
      "metadata": {
        "id": "UQRDsRX51wHn",
        "colab_type": "code",
        "colab": {}
      },
      "source": [
        "import os\n",
        "os.environ[\"JAVA_HOME\"] = \"/usr/lib/jvm/java-8-openjdk-amd64\"\n",
        "os.environ[\"SPARK_HOME\"] = \"/content/spark-2.4.1-bin-hadoop2.7\""
      ],
      "execution_count": 0,
      "outputs": []
    },
    {
      "cell_type": "code",
      "metadata": {
        "id": "CN3S6uhg4ba3",
        "colab_type": "code",
        "colab": {}
      },
      "source": [
        "import findspark\n",
        "findspark.init('/content/spark-2.4.1-bin-hadoop2.7')\n",
        "from pyspark.sql import SparkSession\n",
        "# spark = SparkSession.builder.master(\"local[*]\").getOrCreate()\n",
        "spark = SparkSession \\\n",
        "    .builder \\\n",
        "    .master(\"local[*]\") \\\n",
        "    .appName(\"Redes_de_Correlacao_Ativos\") \\\n",
        "    .config('spark.yarn.executor.memoryOverhead', '4096') \\\n",
        "    .getOrCreate()"
      ],
      "execution_count": 0,
      "outputs": []
    },
    {
      "cell_type": "code",
      "metadata": {
        "id": "qkFR91yaHAgC",
        "colab_type": "code",
        "colab": {}
      },
      "source": [
        "from pyspark import SparkContext\n",
        "sc = SparkContext.getOrCreate()"
      ],
      "execution_count": 0,
      "outputs": []
    },
    {
      "cell_type": "markdown",
      "metadata": {
        "id": "ZZOedLyk--lr",
        "colab_type": "text"
      },
      "source": [
        "### Importando libs"
      ]
    },
    {
      "cell_type": "code",
      "metadata": {
        "id": "KdetPvOZ9WW-",
        "colab_type": "code",
        "colab": {}
      },
      "source": [
        "# !pip install koalas\n",
        "# import databricks.koalas as ks\n",
        "from pyspark.sql import functions as F\n",
        "from pyspark.sql.window import Window"
      ],
      "execution_count": 0,
      "outputs": []
    },
    {
      "cell_type": "markdown",
      "metadata": {
        "id": "KBJ1NTrx_GNz",
        "colab_type": "text"
      },
      "source": [
        "## Realizando mount com dados de forma governada"
      ]
    },
    {
      "cell_type": "code",
      "metadata": {
        "id": "ue4WrgRdY1tj",
        "colab_type": "code",
        "outputId": "9090fc9e-9393-41ee-c7ba-a4805c386dbc",
        "colab": {
          "base_uri": "https://localhost:8080/",
          "height": 124
        }
      },
      "source": [
        "from google.colab import drive\n",
        "drive.mount('/content/drive')"
      ],
      "execution_count": 0,
      "outputs": [
        {
          "output_type": "stream",
          "text": [
            "Go to this URL in a browser: https://accounts.google.com/o/oauth2/auth?client_id=947318989803-6bn6qk8qdgf4n4g3pfee6491hc0brc4i.apps.googleusercontent.com&redirect_uri=urn%3Aietf%3Awg%3Aoauth%3A2.0%3Aoob&scope=email%20https%3A%2F%2Fwww.googleapis.com%2Fauth%2Fdocs.test%20https%3A%2F%2Fwww.googleapis.com%2Fauth%2Fdrive%20https%3A%2F%2Fwww.googleapis.com%2Fauth%2Fdrive.photos.readonly%20https%3A%2F%2Fwww.googleapis.com%2Fauth%2Fpeopleapi.readonly&response_type=code\n",
            "\n",
            "Enter your authorization code:\n",
            "··········\n",
            "Mounted at /content/drive\n"
          ],
          "name": "stdout"
        }
      ]
    },
    {
      "cell_type": "markdown",
      "metadata": {
        "id": "3tWsr8cqX7yg",
        "colab_type": "text"
      },
      "source": [
        "# **Importando dados de cotação historica**\n",
        "\n",
        "*   List item\n",
        "*   List item\n",
        "\n"
      ]
    },
    {
      "cell_type": "code",
      "metadata": {
        "id": "MyL0_bPsW7x8",
        "colab_type": "code",
        "colab": {}
      },
      "source": [
        "path =\"drive/Shared\\ drives/RP\\ 2/Dados\\ Tratados/COTAHIST_A2019.TXT\"\n",
        "df_txt = spark.read.text(path,wholetext=False,lineSep='\\n')"
      ],
      "execution_count": 0,
      "outputs": []
    },
    {
      "cell_type": "code",
      "metadata": {
        "id": "0dNE51a8Wm3C",
        "colab_type": "code",
        "colab": {}
      },
      "source": [
        "df=df_txt.select(\n",
        "    df_txt.value.substr(1,2).alias('TIPO_REG'),\n",
        "    df_txt.value.substr(3,8).alias('DATA_PREG'),\n",
        "    df_txt.value.substr(11,2).alias('COD_BDI'),\n",
        "    df_txt.value.substr(13,12).alias('COD_NEG'),\n",
        "    df_txt.value.substr(25,3).alias('TPMERC'),\n",
        "    df_txt.value.substr(28,12).alias('NOMRES'),\n",
        "    df_txt.value.substr(40,10).alias('ESPECI'),\n",
        "    df_txt.value.substr(50,3).alias('PRAZUT'),\n",
        "    df_txt.value.substr(53,4).alias('MODREF'),\n",
        "    df_txt.value.substr(57,11).alias('PREC_ABER'),\n",
        "    df_txt.value.substr(70,11).alias('PREC_MAX'),\n",
        "    df_txt.value.substr(83,11).alias('PREC_MIN'),\n",
        "    df_txt.value.substr(96,11).alias('PREC_MED'),\n",
        "    df_txt.value.substr(109,11).alias('PREC_ULT'),\n",
        "    df_txt.value.substr(122,11).alias('PREC_COMPR'),\n",
        "    df_txt.value.substr(135,11).alias('PREC_VEND'),\n",
        "    df_txt.value.substr(148,5).alias('TOTAL_NEG'),\n",
        "    df_txt.value.substr(153,18).alias('QT_TOTAL'),\n",
        "    df_txt.value.substr(171,16).alias('VOL_TOTAL'),\n",
        "    df_txt.value.substr(189,11).alias('PREC_EXERC'),\n",
        "    df_txt.value.substr(202,1).alias('IND_OPC'),\n",
        "    df_txt.value.substr(203,8).alias('DT_VENC'),\n",
        "    df_txt.value.substr(211,7).alias('FAT_COT'),\n",
        "    df_txt.value.substr(218,7).alias('PTO_EXE'),\n",
        "    df_txt.value.substr(231,12).alias('COD_ISIN'),\n",
        "    df_txt.value.substr(243,3).alias('DIS_MES')\n",
        ")"
      ],
      "execution_count": 0,
      "outputs": []
    },
    {
      "cell_type": "markdown",
      "metadata": {
        "id": "0uizQY8BYren",
        "colab_type": "text"
      },
      "source": [
        "# Tratamento dos dados"
      ]
    },
    {
      "cell_type": "code",
      "metadata": {
        "id": "btWmSoScbHX-",
        "colab_type": "code",
        "colab": {}
      },
      "source": [
        "def regUnp(df_wk,name):\n",
        "  df_wk.registerTempTable(name)\n",
        "  df_wk.unpersist()\n",
        "  return df_wk.printSchema()"
      ],
      "execution_count": 0,
      "outputs": []
    },
    {
      "cell_type": "code",
      "metadata": {
        "id": "LGsuclzSZT4O",
        "colab_type": "code",
        "colab": {}
      },
      "source": [
        "from pyspark.sql.functions import to_timestamp\n",
        "df=df.withColumn(\"DATA_PREG\", to_timestamp('DATA_PREG','yyyyMMdd'))"
      ],
      "execution_count": 0,
      "outputs": []
    },
    {
      "cell_type": "code",
      "metadata": {
        "id": "eg2UCyv1xxDu",
        "colab_type": "code",
        "colab": {}
      },
      "source": [
        "# df=df.na.drop()"
      ],
      "execution_count": 0,
      "outputs": []
    },
    {
      "cell_type": "code",
      "metadata": {
        "id": "tRVw11-CdNia",
        "colab_type": "code",
        "outputId": "404909d2-161d-49a6-bf18-9f98dc305ce5",
        "colab": {
          "base_uri": "https://localhost:8080/",
          "height": 503
        }
      },
      "source": [
        "regUnp(df,\"WK01\")"
      ],
      "execution_count": 0,
      "outputs": [
        {
          "output_type": "stream",
          "text": [
            "root\n",
            " |-- TIPO_REG: string (nullable = true)\n",
            " |-- DATA_PREG: timestamp (nullable = true)\n",
            " |-- COD_BDI: string (nullable = true)\n",
            " |-- COD_NEG: string (nullable = true)\n",
            " |-- TPMERC: string (nullable = true)\n",
            " |-- NOMRES: string (nullable = true)\n",
            " |-- ESPECI: string (nullable = true)\n",
            " |-- PRAZUT: string (nullable = true)\n",
            " |-- MODREF: string (nullable = true)\n",
            " |-- PREC_ABER: string (nullable = true)\n",
            " |-- PREC_MAX: string (nullable = true)\n",
            " |-- PREC_MIN: string (nullable = true)\n",
            " |-- PREC_MED: string (nullable = true)\n",
            " |-- PREC_ULT: string (nullable = true)\n",
            " |-- PREC_COMPR: string (nullable = true)\n",
            " |-- PREC_VEND: string (nullable = true)\n",
            " |-- TOTAL_NEG: string (nullable = true)\n",
            " |-- QT_TOTAL: string (nullable = true)\n",
            " |-- VOL_TOTAL: string (nullable = true)\n",
            " |-- PREC_EXERC: string (nullable = true)\n",
            " |-- IND_OPC: string (nullable = true)\n",
            " |-- DT_VENC: string (nullable = true)\n",
            " |-- FAT_COT: string (nullable = true)\n",
            " |-- PTO_EXE: string (nullable = true)\n",
            " |-- COD_ISIN: string (nullable = true)\n",
            " |-- DIS_MES: string (nullable = true)\n",
            "\n"
          ],
          "name": "stdout"
        }
      ]
    },
    {
      "cell_type": "markdown",
      "metadata": {
        "id": "jOGtN7C4beRL",
        "colab_type": "text"
      },
      "source": [
        "## Tratando tipos dos dados"
      ]
    },
    {
      "cell_type": "code",
      "metadata": {
        "id": "lu_QKkuSdhWK",
        "colab_type": "code",
        "outputId": "c218bf4e-1e6b-41d6-b4ac-6f7b1df7ab09",
        "colab": {
          "base_uri": "https://localhost:8080/",
          "height": 364
        }
      },
      "source": [
        "df=spark.sql(\n",
        "\"\"\"\n",
        "SELECT\n",
        "   rtrim(ltrim(COD_NEG)) as COD_NEG\n",
        "  ,rtrim(ltrim(NOMRES)) as NOMRES\n",
        "  ,DATA_PREG as DATA_PREG\n",
        "  ,cast(COD_BDI as int) as COD_BDI\n",
        "  ,cast(TPMERC as int) as TPMERC\n",
        "  ,replace(cast(ESPECI as string),\" \",\"\") as ESPECI\n",
        "  ,cast(PREC_ABER as bigint) as PREC_ABER\n",
        "  ,cast(PREC_MAX as bigint) as PREC_MAX\n",
        "  ,cast(PREC_MIN as bigint) as PREC_MIN\n",
        "  ,cast(PREC_MED as bigint) as PREC_MED\n",
        "  ,cast(PREC_ULT as bigint) as PREC_ULT\n",
        "  ,cast(PREC_COMPR as bigint) as PREC_COMPR\n",
        "  ,cast(PREC_VEND as bigint) as PREC_VEND\n",
        "  ,cast(TOTAL_NEG as int) as TOTAL_NEG\n",
        "  ,cast(QT_TOTAL as bigint) as QT_TOTAL\n",
        "  ,cast(VOL_TOTAL as bigint) as VOL_TOTAL\n",
        "  ,cast(PREC_EXERC as bigint) as PREC_EXERC\n",
        "  ,cast(PTO_EXE as bigint) as PTO_EXE\n",
        "FROM\n",
        "  WK01\n",
        "\"\"\")\n",
        "\n",
        "# Filtra ativos de lote Padrão\n",
        "df=df.filter(\"COD_BDI=2\")\n",
        "\n",
        "regUnp(df,\"WK02\")"
      ],
      "execution_count": 0,
      "outputs": [
        {
          "output_type": "stream",
          "text": [
            "root\n",
            " |-- COD_NEG: string (nullable = true)\n",
            " |-- NOMRES: string (nullable = true)\n",
            " |-- DATA_PREG: timestamp (nullable = true)\n",
            " |-- COD_BDI: integer (nullable = true)\n",
            " |-- TPMERC: integer (nullable = true)\n",
            " |-- ESPECI: string (nullable = true)\n",
            " |-- PREC_ABER: long (nullable = true)\n",
            " |-- PREC_MAX: long (nullable = true)\n",
            " |-- PREC_MIN: long (nullable = true)\n",
            " |-- PREC_MED: long (nullable = true)\n",
            " |-- PREC_ULT: long (nullable = true)\n",
            " |-- PREC_COMPR: long (nullable = true)\n",
            " |-- PREC_VEND: long (nullable = true)\n",
            " |-- TOTAL_NEG: integer (nullable = true)\n",
            " |-- QT_TOTAL: long (nullable = true)\n",
            " |-- VOL_TOTAL: long (nullable = true)\n",
            " |-- PREC_EXERC: long (nullable = true)\n",
            " |-- PTO_EXE: long (nullable = true)\n",
            "\n"
          ],
          "name": "stdout"
        }
      ]
    },
    {
      "cell_type": "markdown",
      "metadata": {
        "id": "85Z_AP0Rzc7Q",
        "colab_type": "text"
      },
      "source": [
        "## Cria Janela para analise"
      ]
    },
    {
      "cell_type": "code",
      "metadata": {
        "id": "8kIHsgZKzZ8m",
        "colab_type": "code",
        "colab": {}
      },
      "source": [
        "DFW = Window.partitionBy('COD_NEG','DATA_PREG')"
      ],
      "execution_count": 0,
      "outputs": []
    },
    {
      "cell_type": "markdown",
      "metadata": {
        "id": "cElkyeLWbqS2",
        "colab_type": "text"
      },
      "source": [
        "## Range de datas disponiveis na base"
      ]
    },
    {
      "cell_type": "code",
      "metadata": {
        "id": "Drk0_aMMcV7Q",
        "colab_type": "code",
        "outputId": "08b66dd3-4e7c-49ea-f66b-35915986e79d",
        "colab": {
          "base_uri": "https://localhost:8080/",
          "height": 34
        }
      },
      "source": [
        "min_max_n = df.agg(F.min(df.DATA_PREG),F.max(df.DATA_PREG),F.countDistinct(df.DATA_PREG)).collect()[0]\n",
        "min_date = min_max_n[0]\n",
        "max_date = min_max_n[1]\n",
        "ndias_fun = min_max_n[2]\n",
        "print(min_date,max_date,ndias_fun)"
      ],
      "execution_count": 0,
      "outputs": [
        {
          "output_type": "stream",
          "text": [
            "2019-01-02 00:00:00 2019-09-06 00:00:00 171\n"
          ],
          "name": "stdout"
        }
      ]
    },
    {
      "cell_type": "markdown",
      "metadata": {
        "id": "13ijGXWDBd_C",
        "colab_type": "text"
      },
      "source": [
        "## Filtros de Elegibilidade de Ativo"
      ]
    },
    {
      "cell_type": "markdown",
      "metadata": {
        "id": "G92DGCSf9avI",
        "colab_type": "text"
      },
      "source": [
        "*\n",
        "\n",
        "*   Foi eleito o ativo mais líquido da empresa\n",
        "    *    http://www.nefin.com.br/illiquidity_index.html\n",
        "*   Tenha sido negociado em pelo menos 80% dos dias de funcionamento da bolsa\n",
        "    *   No periodo selecionado\n",
        "*   Foram considerados aos valores de fechamento diários. Preferiu-se ações do tipo PN –\n",
        "Preferenciais Nominais a ON – Ordinárias Nominais, como critério de desempate\n",
        "\n",
        "\n",
        "#### Eligibility criteria (NEFIN Methodology)\n",
        "##### A stock traded in BOVESPA is considered “eligible” for year ***t*** ifit meets 3 criteria:\n",
        "  * •The stock is the most traded stock of the firm (the one with the highest traded volume during last year);\n",
        "  * •The stock was traded in more than 80% of the days in year t-1with volume greater than R$ 500.000,00 per day. In case the stock was listed in year t-1, the period considered goes from the listing day to the last day of the year;\n",
        "  * •The stock was initially listed prior to December of year t-1\n",
        "\n"
      ]
    },
    {
      "cell_type": "markdown",
      "metadata": {
        "id": "JHeb8_J8fFjD",
        "colab_type": "text"
      },
      "source": [
        "# Negociado 80% dos dias de funcionamento da bolsa"
      ]
    },
    {
      "cell_type": "code",
      "metadata": {
        "id": "c5y8jAzLx5PG",
        "colab_type": "code",
        "colab": {}
      },
      "source": [
        "df=df.withColumn('count_neg', F.count('COD_NEG').over(DFW))"
      ],
      "execution_count": 0,
      "outputs": []
    },
    {
      "cell_type": "code",
      "metadata": {
        "id": "dC3qspNpx6Hr",
        "colab_type": "code",
        "colab": {}
      },
      "source": [
        "DFW = Window.partitionBy('COD_NEG','NOMRES')"
      ],
      "execution_count": 0,
      "outputs": []
    },
    {
      "cell_type": "code",
      "metadata": {
        "id": "eIT2JSW41T_V",
        "colab_type": "code",
        "colab": {}
      },
      "source": [
        "df=df.withColumn('sum_count_neg', F.sum('count_neg').over(DFW))"
      ],
      "execution_count": 0,
      "outputs": []
    },
    {
      "cell_type": "code",
      "metadata": {
        "id": "v3-SPw9JslRy",
        "colab_type": "code",
        "outputId": "e951139b-4d2e-4e17-cc8d-d97ccef4ace2",
        "colab": {
          "base_uri": "https://localhost:8080/",
          "height": 416
        }
      },
      "source": [
        "df=df.withColumn(\"percent_func\",(F.col(\"sum_count_neg\")*100)/F.lit(ndias_fun)).filter(\"percent_func >= 80.0\")"
      ],
      "execution_count": 0,
      "outputs": [
        {
          "output_type": "stream",
          "text": [
            "root\n",
            " |-- COD_NEG: string (nullable = true)\n",
            " |-- NOMRES: string (nullable = true)\n",
            " |-- DATA_PREG: timestamp (nullable = true)\n",
            " |-- COD_BDI: integer (nullable = true)\n",
            " |-- TPMERC: integer (nullable = true)\n",
            " |-- ESPECI: string (nullable = true)\n",
            " |-- PREC_ABER: long (nullable = true)\n",
            " |-- PREC_MAX: long (nullable = true)\n",
            " |-- PREC_MIN: long (nullable = true)\n",
            " |-- PREC_MED: long (nullable = true)\n",
            " |-- PREC_ULT: long (nullable = true)\n",
            " |-- PREC_COMPR: long (nullable = true)\n",
            " |-- PREC_VEND: long (nullable = true)\n",
            " |-- TOTAL_NEG: integer (nullable = true)\n",
            " |-- QT_TOTAL: long (nullable = true)\n",
            " |-- VOL_TOTAL: long (nullable = true)\n",
            " |-- PREC_EXERC: long (nullable = true)\n",
            " |-- PTO_EXE: long (nullable = true)\n",
            " |-- count_neg: long (nullable = false)\n",
            " |-- sum_count_neg: long (nullable = true)\n",
            " |-- percent_func: double (nullable = true)\n",
            "\n"
          ],
          "name": "stdout"
        }
      ]
    },
    {
      "cell_type": "markdown",
      "metadata": {
        "id": "KnB7EyRx6NJZ",
        "colab_type": "text"
      },
      "source": [
        "# ATIVOS QUE AINDA NÃO FORAM ELEITOS"
      ]
    },
    {
      "cell_type": "code",
      "metadata": {
        "id": "rGbJ2uyPp5hr",
        "colab_type": "code",
        "outputId": "40b997fe-d160-41e4-d032-ae5ed676abf4",
        "colab": {
          "base_uri": "https://localhost:8080/",
          "height": 434
        }
      },
      "source": [
        "DFW = Window.partitionBy('NOMRES')\n",
        "df=df.withColumn('desemp', F.count('*').over(DFW))\n",
        "regUnp(df,\"ativos_preleitos\")"
      ],
      "execution_count": 0,
      "outputs": [
        {
          "output_type": "stream",
          "text": [
            "root\n",
            " |-- COD_NEG: string (nullable = true)\n",
            " |-- NOMRES: string (nullable = true)\n",
            " |-- DATA_PREG: timestamp (nullable = true)\n",
            " |-- COD_BDI: integer (nullable = true)\n",
            " |-- TPMERC: integer (nullable = true)\n",
            " |-- ESPECI: string (nullable = true)\n",
            " |-- PREC_ABER: long (nullable = true)\n",
            " |-- PREC_MAX: long (nullable = true)\n",
            " |-- PREC_MIN: long (nullable = true)\n",
            " |-- PREC_MED: long (nullable = true)\n",
            " |-- PREC_ULT: long (nullable = true)\n",
            " |-- PREC_COMPR: long (nullable = true)\n",
            " |-- PREC_VEND: long (nullable = true)\n",
            " |-- TOTAL_NEG: integer (nullable = true)\n",
            " |-- QT_TOTAL: long (nullable = true)\n",
            " |-- VOL_TOTAL: long (nullable = true)\n",
            " |-- PREC_EXERC: long (nullable = true)\n",
            " |-- PTO_EXE: long (nullable = true)\n",
            " |-- count_neg: long (nullable = false)\n",
            " |-- sum_count_neg: long (nullable = true)\n",
            " |-- percent_func: double (nullable = true)\n",
            " |-- desemp: long (nullable = false)\n",
            "\n"
          ],
          "name": "stdout"
        }
      ]
    },
    {
      "cell_type": "markdown",
      "metadata": {
        "id": "rlxljQuP7VX1",
        "colab_type": "text"
      },
      "source": [
        "N = número total de negócios no mercado a vista B3 (lote-padrão)."
      ]
    },
    {
      "cell_type": "code",
      "metadata": {
        "id": "-Cm5QZsj7MZp",
        "colab_type": "code",
        "outputId": "c5494440-7c5a-45df-a6ca-71f9a1bb0771",
        "colab": {
          "base_uri": "https://localhost:8080/",
          "height": 34
        }
      },
      "source": [
        "N=spark.sql(\n",
        "\"\"\"\n",
        "SELECT\n",
        "   sum(QT_TOTAL)\n",
        "FROM\n",
        "  ativos_preleitos\n",
        "\"\"\").collect()[0][0]"
      ],
      "execution_count": 0,
      "outputs": [
        {
          "output_type": "execute_result",
          "data": {
            "text/plain": [
              "100002280800"
            ]
          },
          "metadata": {
            "tags": []
          },
          "execution_count": 49
        }
      ]
    },
    {
      "cell_type": "markdown",
      "metadata": {
        "id": "I6nYuDm5r2jz",
        "colab_type": "text"
      },
      "source": [
        "# Eleger ativo mais liquido (Com maior indice de Negociabilidade)\n",
        "O índice de negociabilidade é calculado pela seguinte fórmula:\n",
        "\n",
        "$IN=\\frac{\\sum_{i=1}^p\\sqrt[3]{\\frac{N_a}{N}}*(\\frac{V_a}{V})}{P}$\n",
        "\n",
        "\n",
        "\n",
        "Onde:\n",
        "\n",
        "IN = índice de negociabilidade.\n",
        "\n",
        "$N_a$ = número de negócios com o ativo $a$ no mercado a vista (lote padrão)\n",
        "\n",
        "N = número total de negócios no mercado a vista B3 (lote-padrão).\n",
        "\n",
        "$V_a$ = volume financeiro gerado pelos negócios com o ativo $a$ no mercado a vista (lote-padrão).\n",
        "\n",
        "V = volume financeiro total do mercado a BM&FBOVESPA (lote-padrão).\n",
        "\n",
        "P = número total de pregões no período."
      ]
    },
    {
      "cell_type": "code",
      "metadata": {
        "id": "aOw2xiIOBVC8",
        "colab_type": "code",
        "colab": {}
      },
      "source": [
        "Na=QT_TOTAL ,COD_NEG\n",
        "N= SUM(QT_TOTAL)"
      ],
      "execution_count": 0,
      "outputs": []
    },
    {
      "cell_type": "markdown",
      "metadata": {
        "id": "awftXk6xpk_2",
        "colab_type": "text"
      },
      "source": [
        "# Calculo de Retorno\n",
        "\n",
        "$R_{t+1}=\\frac{pt+1}{pt}-1 $\n",
        "\n",
        "Ou em Logaritmo neperiano\n",
        "\n",
        "$\\ln{R_{t+1}}=\\ln{p_{t+1}}-\\ln{p_{t}} $\n",
        "\n",
        "### Onde:\n",
        "\n",
        "$t=período$\n",
        "\n",
        "$R_{t+1}=RetornoNoDia$\n",
        "\n",
        "$p_{t+1}=PreçoNoDia$\n",
        "\n",
        "$p_{t}=PreçoNoDiaAnterior$"
      ]
    },
    {
      "cell_type": "code",
      "metadata": {
        "id": "27egFxL10417",
        "colab_type": "code",
        "colab": {}
      },
      "source": [
        "def retorno(ativo,dia):"
      ],
      "execution_count": 0,
      "outputs": []
    },
    {
      "cell_type": "markdown",
      "metadata": {
        "id": "wksFtCHpiIuI",
        "colab_type": "text"
      },
      "source": [
        "# Correlação de Pearson\n",
        "\n",
        "$\\rho=\\frac{\\sum_{i=1}^n(xi-\\overline{x})(yi-\\overline{y})}{\\sqrt{\\sum_{i=1}^n(xi-\\overline{x})^2}*\\sqrt{\\sum_{i=1}^n(yi-\\overline{y})^2}}$"
      ]
    },
    {
      "cell_type": "markdown",
      "metadata": {
        "id": "dYkeUBw4oFdS",
        "colab_type": "text"
      },
      "source": [
        "# Distancia da Correlação\n",
        "\n",
        "$dxy=\\sqrt{2(1-\\rho xy(\\Delta t))}$"
      ]
    },
    {
      "cell_type": "code",
      "metadata": {
        "id": "-R47o4Z1_5ky",
        "colab_type": "code",
        "outputId": "0ee2dbb9-04c9-495c-b418-a09153448369",
        "colab": {
          "base_uri": "https://localhost:8080/",
          "height": 127
        }
      },
      "source": [
        "spark.sql(\n",
        "\"\"\"\n",
        "SELECT\n",
        "  COUNT(DISTINCT COD_NEG)\n",
        "  ,COUNT(DISTINCT NOMRES)\n",
        "--  ,NOMRES\n",
        "--  ,COD_NEG\n",
        "--  ,NOMRES\n",
        "FROM\n",
        "  WK01\n",
        "\"\"\"\n",
        ").show(100)"
      ],
      "execution_count": 0,
      "outputs": [
        {
          "output_type": "stream",
          "text": [
            "+-----------------------+----------------------+\n",
            "|count(DISTINCT COD_NEG)|count(DISTINCT NOMRES)|\n",
            "+-----------------------+----------------------+\n",
            "|                  36956|                  1403|\n",
            "+-----------------------+----------------------+\n",
            "\n"
          ],
          "name": "stdout"
        }
      ]
    },
    {
      "cell_type": "code",
      "metadata": {
        "id": "RESoU2Yzvc4i",
        "colab_type": "code",
        "outputId": "27c22ede-5153-4aee-b46b-49d3f7c9c041",
        "colab": {
          "base_uri": "https://localhost:8080/",
          "height": 1000
        }
      },
      "source": [
        "spark.sql(\n",
        "\"\"\"\n",
        "SELECT\n",
        "  NOMRES\n",
        "  ,COUNT(COD_NEG) AS COD_NEG\n",
        "--  ,VOL_TOTAL\n",
        "FROM\n",
        "  WK01\n",
        "GROUP BY\n",
        "  NOMRES\n",
        "\"\"\"\n",
        ").show(100,truncate=False)"
      ],
      "execution_count": 0,
      "outputs": [
        {
          "output_type": "stream",
          "text": [
            "+------------+-------+\n",
            "|NOMRES      |COD_NEG|\n",
            "+------------+-------+\n",
            "|SCHWAB      |29     |\n",
            "|VERIZON     |196    |\n",
            "|MRVE    /ATZ|9      |\n",
            "|DIRRE    /ED|1      |\n",
            "|CCRO    /ED |18     |\n",
            "|SER EDUCA   |418    |\n",
            "|FII KINEA RI|171    |\n",
            "|FII MALLS BP|177    |\n",
            "|MRVE  FM    |510    |\n",
            "|WEGE  FM/ED |91     |\n",
            "|SBSPE  FM/EJ|17     |\n",
            "|PAR AL BAHIA|136    |\n",
            "|COCA COLA   |64     |\n",
            "|OI          |1695   |\n",
            "|MEDTRONIC   |6      |\n",
            "|RIOSULENSE  |38     |\n",
            "|FII TOURMALE|1      |\n",
            "|FII RIOB ED |90     |\n",
            "|CIEL    /EJ |219    |\n",
            "|MGLU    /EJ |1      |\n",
            "|PCAR        |496    |\n",
            "|FII CAPI SEC|171    |\n",
            "|MMX MINER   |641    |\n",
            "|FII HEDGEBS |171    |\n",
            "|AVON        |117    |\n",
            "|ELECTR ARTS |1      |\n",
            "|HYPEE  FM/EJ|90     |\n",
            "|ARZZE       |9      |\n",
            "|FII CAMPUSFL|171    |\n",
            "|FII EXCELLEN|171    |\n",
            "|IT NOW IDIV |355    |\n",
            "|BBDCE       |4443   |\n",
            "|IBOVE  FM   |7601   |\n",
            "|BRAP    /EDJ|9      |\n",
            "|AMPLA ENERG |57     |\n",
            "|BANK AMERICA|227    |\n",
            "|TAESA       |1201   |\n",
            "|MILLS       |576    |\n",
            "|DIRECIONAL  |401    |\n",
            "|BERKSHIRE   |216    |\n",
            "|SCHULZ      |394    |\n",
            "|CEPAC - CTBA|1      |\n",
            "|SIGNATURE BK|1      |\n",
            "|NATUE  FM   |252    |\n",
            "|ENBRE    /ED|2      |\n",
            "|BRAPE  FM/ED|9      |\n",
            "|EQTLE    /ED|2      |\n",
            "|TAEEE  FM/ED|81     |\n",
            "|VALE        |11182  |\n",
            "|METAL LEVE  |422    |\n",
            "|BEST BUY    |1      |\n",
            "|ITUB    /EDJ|107    |\n",
            "|LREN    /EJ |26     |\n",
            "|QUAL  FM    |746    |\n",
            "|BEEFE       |6      |\n",
            "|BBAS    /EJ |522    |\n",
            "|JBSS    /ED |40     |\n",
            "|CSAN    /ED |7      |\n",
            "|MGLUE    /EB|16     |\n",
            "|BRML  FM/EDJ|44     |\n",
            "|FII VBI LOG |161    |\n",
            "|CYRE  FM/ED |48     |\n",
            "|FII RIONEGRO|171    |\n",
            "|PORTO VM    |103    |\n",
            "|LAME  FM    |1123   |\n",
            "|RENT  FM/EJ |71     |\n",
            "|QUALE    /ED|8      |\n",
            "|FII V PARQUE|171    |\n",
            "|DEERE CO    |7      |\n",
            "|BBDC    /EJ |1027   |\n",
            "|ELET  FM    |1606   |\n",
            "|CSAN  FM    |768    |\n",
            "|MRFGE  FM   |304    |\n",
            "|LIGT        |79     |\n",
            "|ELET  FM/EDR|33     |\n",
            "|FII HTOPFOF3|176    |\n",
            "|IT NOW PIBB |349    |\n",
            "|MINUPAR     |289    |\n",
            "|SENIOR SOL  |70     |\n",
            "|P.ACUCAR-CBD|557    |\n",
            "|CMIG    /EJ |47     |\n",
            "|EMBRE  FM/ED|15     |\n",
            "|PETR    /EJ |1913   |\n",
            "|ELET    /EDR|15     |\n",
            "|POMIFRUTAS  |334    |\n",
            "|CSU CARDSYST|405    |\n",
            "|LONGDIS     |2      |\n",
            "|WESTERN BCOR|1      |\n",
            "|CSNA        |1841   |\n",
            "|WEGEE  FM   |355    |\n",
            "|CRFBE       |5      |\n",
            "|DASA        |140    |\n",
            "|FII TOUR II |9      |\n",
            "|CSX CORP    |9      |\n",
            "|MYPKE       |34     |\n",
            "|WEGEE       |140    |\n",
            "|TIMPE    /EJ|5      |\n",
            "|FII ALIANZA |176    |\n",
            "|IT NOW IGCT |182    |\n",
            "|SIRIUS XM HD|1      |\n",
            "+------------+-------+\n",
            "only showing top 100 rows\n",
            "\n"
          ],
          "name": "stdout"
        }
      ]
    },
    {
      "cell_type": "code",
      "metadata": {
        "id": "o5dT6l4Bi4cf",
        "colab_type": "code",
        "outputId": "aec08060-01cb-40c0-8ddc-37f4f0667bda",
        "colab": {
          "base_uri": "https://localhost:8080/",
          "height": 459
        }
      },
      "source": [
        "df.show()\n",
        "# dias_ativo_agg=spark.sql(\n",
        "# \"\"\"\n",
        "# SELECT\n",
        "#    COD_NEG\n",
        "#    ,DATA_PREG\n",
        "#    ,COUNT(DISTINCT COD_NEG) as count_neg\n",
        "#    ,max(NOMRES) as NOMRES\n",
        "# FROM\n",
        "#   WK02\n",
        "# GROUP BY\n",
        "#   COD_NEG\n",
        "#   ,DATA_PREG\n",
        "# \"\"\").groupBy('COD_NEG','NOMRES').agg({'count_neg':'sum'})"
      ],
      "execution_count": 0,
      "outputs": [
        {
          "output_type": "stream",
          "text": [
            "+------------+------------+-------------------+-------+------+-------+---------+--------+--------+--------+--------+----------+---------+---------+--------+---------+----------+-------+\n",
            "|     COD_NEG|      NOMRES|          DATA_PREG|COD_BDI|TPMERC| ESPECI|PREC_ABER|PREC_MAX|PREC_MIN|PREC_MED|PREC_ULT|PREC_COMPR|PREC_VEND|TOTAL_NEG|QT_TOTAL|VOL_TOTAL|PREC_EXERC|PTO_EXE|\n",
            "+------------+------------+-------------------+-------+------+-------+---------+--------+--------+--------+--------+----------+---------+---------+--------+---------+----------+-------+\n",
            "|AALR3       |ALLIAR      |2019-01-02 00:00:00|      2|    10|   ONNM|       13|      13|      13|      13|      13|        13|       13|      856|  264200|  3523962|         0|      0|\n",
            "|AAPL34      |APPLE       |2019-01-02 00:00:00|      2|    10|    DRN|       60|      60|      59|      60|      60|        59|       60|       45|   16800|  1015969|         0|      0|\n",
            "|ABBV34      |ABBVIE      |2019-01-02 00:00:00|      2|    10|    DRN|      342|     342|     342|     342|     342|         0|        0|        1|     300|   102852|         0|      0|\n",
            "|ABCB4       |ABC BRASIL  |2019-01-02 00:00:00|      2|    10|PNEJSN2|       16|      17|      16|      16|      17|        17|       17|     3477|  571700|  9598300|         0|      0|\n",
            "|ABEV3       |AMBEV S/A   |2019-01-02 00:00:00|      2|    10|   ONEJ|       15|      16|      15|      15|      16|        16|       16|    45941|18692900|298201954|         0|      0|\n",
            "|ADHM3       |ADVANCED-DH |2019-01-02 00:00:00|      2|    10|     ON|        1|       1|       1|       1|       1|         1|        1|        3|    1800|     2698|         0|      0|\n",
            "|AFLT3       |AFLUENTE T  |2019-01-02 00:00:00|      2|    10|     ON|        5|       5|       5|       5|       5|         4|        5|        4|     500|     2716|         0|      0|\n",
            "|ALUP3       |ALUPAR      |2019-01-02 00:00:00|      2|    10|   ONN2|        7|       7|       6|       7|       7|         7|        7|       31|    3800|    27177|         0|      0|\n",
            "|B3SA3       |B3          |2019-01-02 00:00:00|      2|    10| ONEJNM|       26|      27|      26|      27|      27|        27|       27|    34693|24615000|678814580|         0|      0|\n",
            "|BAHI3       |BAHEMA      |2019-01-02 00:00:00|      2|    10|   ONMA|      133|     133|     130|     132|     130|       130|      138|        6|     600|    79467|         0|      0|\n",
            "|BIDI4       |BANCO INTER |2019-01-02 00:00:00|      2|    10| PNEJN1|       38|      39|      38|      38|      39|        39|       39|     1408|  297300| 11568363|         0|      0|\n",
            "|CESP5       |CESP        |2019-01-02 00:00:00|      2|    10|  PNAN1|       20|      20|      20|      20|      20|        20|       20|        4|     400|     8117|         0|      0|\n",
            "|CSRN5       |COSERN      |2019-01-02 00:00:00|      2|    10|    PNA|       16|      16|      16|      16|      16|        16|       16|        3|     800|    13120|         0|      0|\n",
            "|CTSH34      |COGNIZANT   |2019-01-02 00:00:00|      2|    10|    DRN|      242|     242|     242|     242|     242|         0|        0|        1|     100|    24250|         0|      0|\n",
            "|EMAE4       |EMAE        |2019-01-02 00:00:00|      2|    10|     PN|       18|      18|      18|      18|      18|        18|       18|       10|    2900|    52919|         0|      0|\n",
            "|FLRY3       |FLEURY      |2019-01-02 00:00:00|      2|    10|   ONNM|       19|      20|      19|      20|      20|        20|       20|    11481| 2009500| 40420082|         0|      0|\n",
            "|GILD34      |GILEAD      |2019-01-02 00:00:00|      2|    10|    DRN|      122|     122|     122|     122|     122|         0|        0|        1|    4200|   512946|         0|      0|\n",
            "|GOGL35      |ALPHABET    |2019-01-02 00:00:00|      2|    10|   DRNC|      160|     160|     160|     160|     160|       157|        0|        1|    1800|   289188|         0|      0|\n",
            "|GPSI34      |GAP         |2019-01-02 00:00:00|      2|    10|    DRN|       98|      98|      98|      98|      98|         0|        0|        1|   26900|  2651802|         0|      0|\n",
            "|HOME34      |HOME DEPOT  |2019-01-02 00:00:00|      2|    10|    DRN|      330|     330|     330|     330|     330|         0|        0|        1|    1300|   429533|         0|      0|\n",
            "+------------+------------+-------------------+-------+------+-------+---------+--------+--------+--------+--------+----------+---------+---------+--------+---------+----------+-------+\n",
            "only showing top 20 rows\n",
            "\n"
          ],
          "name": "stdout"
        }
      ]
    },
    {
      "cell_type": "code",
      "metadata": {
        "id": "DdetCIJJUCzT",
        "colab_type": "code",
        "colab": {}
      },
      "source": [
        "from google.colab import files\n",
        "files.download('drive/Shared drives/RP 2/Materiais/Dissertacao+folhaaprova.pdf')"
      ],
      "execution_count": 0,
      "outputs": []
    },
    {
      "cell_type": "code",
      "metadata": {
        "id": "E7mxlCVFXYbZ",
        "colab_type": "code",
        "outputId": "a0c03967-f053-4c7f-9688-521d1f067c24",
        "colab": {
          "base_uri": "https://localhost:8080/",
          "height": 35
        }
      },
      "source": [
        "!ls drive/Shared\\ drives/RP\\ 2/Materiais/Dissertacao+folhaaprova.pdf"
      ],
      "execution_count": 0,
      "outputs": [
        {
          "output_type": "stream",
          "text": [
            "'drive/Shared drives/RP 2/Materiais/Dissertacao+folhaaprova.pdf'\n"
          ],
          "name": "stdout"
        }
      ]
    },
    {
      "cell_type": "markdown",
      "metadata": {
        "id": "YHg3KR4WC2dS",
        "colab_type": "text"
      },
      "source": [
        "# PyVis - Biblioteca Gráfica\n",
        "https://pyvis.readthedocs.io/en/latest/tutorial.html\n",
        "# Documentação\n",
        "https://pyvis.readthedocs.io/en/latest/documentation.html\n"
      ]
    },
    {
      "cell_type": "code",
      "metadata": {
        "id": "yt4oE4ePDA_x",
        "colab_type": "code",
        "colab": {}
      },
      "source": [
        "! pip install pyvis"
      ],
      "execution_count": 0,
      "outputs": []
    },
    {
      "cell_type": "code",
      "metadata": {
        "id": "uSk32Db2DG6w",
        "colab_type": "code",
        "colab": {}
      },
      "source": [
        "! pip install ipython"
      ],
      "execution_count": 0,
      "outputs": []
    },
    {
      "cell_type": "code",
      "metadata": {
        "id": "LmqiLYDDDKqA",
        "colab_type": "code",
        "colab": {}
      },
      "source": [
        "from pyvis.network import Network\n",
        "import pandas as pd\n",
        "import IPython\n",
        "\n",
        "got_net = Network(height=\"750px\", width=\"100%\", bgcolor=\"#222222\", font_color=\"white\")\n",
        "\n",
        "# set the physics layout of the network\n",
        "got_net.barnes_hut()\n",
        "got_data = pd.read_csv(\"https://www.macalester.edu/~abeverid/data/stormofswords.csv\")\n",
        "\n",
        "sources = got_data['Source']\n",
        "targets = got_data['Target']\n",
        "weights = got_data['Weight']\n",
        "\n",
        "edge_data = zip(sources, targets, weights)\n",
        "\n",
        "for e in edge_data:\n",
        "    src = e[0]\n",
        "    dst = e[1]\n",
        "    w = e[2]\n",
        "\n",
        "    got_net.add_node(src, src, title=src)\n",
        "    got_net.add_node(dst, dst, title=dst)\n",
        "    got_net.add_edge(src, dst, value=w)\n",
        "\n",
        "neighbor_map = got_net.get_adj_list()\n",
        "\n",
        "# add neighbor data to node hover data\n",
        "for node in got_net.nodes:\n",
        "    node[\"title\"] += \" Neighbors:<br>\" + \"<br>\".join(neighbor_map[node[\"id\"]])\n",
        "    node[\"value\"] = len(neighbor_map[node[\"id\"]])\n",
        "\n",
        "got_net.show(\"gameofthrones.html\")\n",
        "IPython.display.HTML(filename='gameofthrones.html')"
      ],
      "execution_count": 0,
      "outputs": []
    },
    {
      "cell_type": "code",
      "metadata": {
        "id": "Kmcnb5APDVJ3",
        "colab_type": "code",
        "colab": {}
      },
      "source": [
        ""
      ],
      "execution_count": 0,
      "outputs": []
    }
  ]
}